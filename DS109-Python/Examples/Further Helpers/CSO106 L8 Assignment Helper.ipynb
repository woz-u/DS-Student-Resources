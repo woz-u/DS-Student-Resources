{
 "cells": [
  {
   "cell_type": "markdown",
   "id": "04f1d7ee-786b-4456-a8d1-f4a258034d2a",
   "metadata": {},
   "source": [
    "# CSO106 Python L8 Hands On Helper"
   ]
  },
  {
   "cell_type": "markdown",
   "id": "a4664e60-364e-4b7c-af26-d2551254359d",
   "metadata": {},
   "source": [
    "---"
   ]
  },
  {
   "cell_type": "markdown",
   "id": "acc58c24-9d41-4ce2-b898-8d48d393c531",
   "metadata": {},
   "source": [
    "### Part 1 Concepts to Consider"
   ]
  },
  {
   "cell_type": "markdown",
   "id": "12deaac6-03a0-4bf3-99c4-fddb75ebe1e4",
   "metadata": {},
   "source": [
    "✅ Part 1: Superclass and Subclass Basics\n",
    "What would be a good class name for a generic worker at a company?\n",
    "Hint: Think of a role that includes all types of employees, like engineers, managers, etc.\n",
    "\n",
    "List three basic properties (attributes) that every employee might have.\n",
    "\n",
    "Can you write an __init__() method that takes these three properties as parameters and stores them in the object?\n",
    "\n",
    "Now, think about what kind of methods you would want for this class.\n",
    "\n",
    "How would you print just the name of the employee?\n",
    "\n",
    "How would you print the salary?\n",
    "\n",
    "How would you show when they were hired?\n",
    "\n",
    "Now create a second class that is a specific type of employee, like an engineer.\n",
    "\n",
    "What keyword in Python allows one class to inherit from another?\n",
    "\n",
    "In your subclass, use that keyword to inherit from the generic class.\n",
    "\n",
    "Instantiate one object of the superclass and one of the subclass.\n",
    "\n",
    "What variable names should you give them to be meaningful?\n",
    "\n",
    "Call the method that prints the name for the first object and the method that prints the salary for the second."
   ]
  },
  {
   "cell_type": "markdown",
   "id": "7bf5ed88-b275-416b-b65e-78e43b82cdd6",
   "metadata": {},
   "source": [
    "### Part 1 Helper"
   ]
  },
  {
   "cell_type": "markdown",
   "id": "f4f2cfd9-9c54-4d82-b9dd-fd9a22383d43",
   "metadata": {},
   "source": [
    "🔹 Part 1 – Superclass and Subclass\n",
    "Create two Python classes: a base class (superclass) and one subclass.\n",
    "\n",
    "The superclass should be named Vehicle.\n",
    "\n",
    "The subclass should be named Car.\n",
    "\n",
    "Your Vehicle class must include the following properties:\n",
    "\n",
    "make (string) – the manufacturer (e.g., \"Honda\")\n",
    "\n",
    "model (string) – the model name (e.g., \"Civic\")\n",
    "\n",
    "year (string or int) – the year it was made\n",
    "\n",
    "Add the following methods to the Vehicle class:\n",
    "\n",
    "get_make() – prints a message including the vehicle’s make\n",
    "\n",
    "get_model() – prints a message including the model\n",
    "\n",
    "get_year() – prints a message including the year\n",
    "\n",
    "Use super() appropriately in the Car class to initialize the base properties.\n",
    "\n",
    "Instantiate one object for each class:\n",
    "\n",
    "main_vehicle – should be an instance of Vehicle\n",
    "\n",
    "car_vehicle – should be an instance of Car\n",
    "\n",
    "Call the appropriate methods so that:\n",
    "\n",
    "main_vehicle prints the vehicle make\n",
    "\n",
    "car_vehicle prints the vehicle model"
   ]
  },
  {
   "cell_type": "markdown",
   "id": "26f0bdb8-e0ea-48f0-b0fe-996bb34b507e",
   "metadata": {},
   "source": [
    "#### Expected output format:\n",
    "\n",
    "This vehicle is made by Toyota\n",
    "\n",
    "This car model is Corolla"
   ]
  },
  {
   "cell_type": "markdown",
   "id": "3b36591a-5fbf-4623-86af-928f5c029378",
   "metadata": {},
   "source": [
    "### Solution"
   ]
  },
  {
   "cell_type": "code",
   "execution_count": 12,
   "id": "f9fe9246-d58e-4b15-8013-ea8b9c136a1d",
   "metadata": {},
   "outputs": [],
   "source": [
    "# Superclass\n",
    "class Vehicle:\n",
    "    def __init__(self, make, model, year):\n",
    "        self.make = make\n",
    "        self.model = model\n",
    "        self.year = year\n",
    "\n",
    "    def get_make(self):\n",
    "        print(f\"This vehicle is made by {self.make}\")\n",
    "\n",
    "    def get_model(self):\n",
    "        print(f\"This vehicle model is {self.model}\")\n",
    "\n",
    "    def get_year(self):\n",
    "        print(f\"This vehicle was made in {self.year}\")\n",
    "\n",
    "\n",
    "# Subclass\n",
    "class Car(Vehicle):\n",
    "    def __init__(self, make, model, year):\n",
    "        super().__init__(make, model, year)\n",
    "\n",
    "\n",
    "# Instantiations\n",
    "main_vehicle = Vehicle(\"Toyota\", \"Highlander\", 2022)\n",
    "car_vehicle = Car(\"Honda\", \"Civic\", 2020)"
   ]
  },
  {
   "cell_type": "code",
   "execution_count": 13,
   "id": "293fcdab-7327-4e49-86fa-d03742736242",
   "metadata": {},
   "outputs": [
    {
     "name": "stdout",
     "output_type": "stream",
     "text": [
      "This vehicle is made by Toyota\n",
      "This vehicle model is Civic\n"
     ]
    }
   ],
   "source": [
    "# Output required in the prompt\n",
    "main_vehicle.get_make()\n",
    "car_vehicle.get_model()"
   ]
  },
  {
   "cell_type": "markdown",
   "id": "401e3735-589f-4a72-9641-9d391a321496",
   "metadata": {},
   "source": [
    "---"
   ]
  },
  {
   "cell_type": "markdown",
   "id": "ad381a8f-786d-4f9a-8ea9-c5486d092f7c",
   "metadata": {},
   "source": [
    "### Part 2 Concepts to Consider"
   ]
  },
  {
   "cell_type": "markdown",
   "id": "a284531d-eeea-4323-b035-6080d3d78831",
   "metadata": {},
   "source": [
    "✅ Part 2: Overriding a Method\n",
    "Let's make a more specific subclass: What kind of engineer might want to keep their salary private?\n",
    "\n",
    "In Python, how do you override a method from the parent class in a child class?\n",
    "\n",
    "Create a new subclass from your engineer class. In that new class:\n",
    "\n",
    "Override the get_salary() method.\n",
    "\n",
    "Make it print a custom message that says the salary is private.\n",
    "\n",
    "Create an object of this new class and try calling the overridden method.\n",
    "\n",
    "What should the result be?"
   ]
  },
  {
   "cell_type": "markdown",
   "id": "2c9a4945-2c82-48ea-9281-4aef014108ac",
   "metadata": {},
   "source": [
    "### Part 2 Helper"
   ]
  },
  {
   "cell_type": "markdown",
   "id": "9d70895c-7b48-49fc-a53a-5e17167bcdff",
   "metadata": {},
   "source": [
    "🔹 Part 2 – Overriding a Method\n",
    "Now create a new subclass named ElectricCar, which inherits from Car.\n",
    "\n",
    "Override the get_model() method in ElectricCar.\n",
    "\n",
    "Instantiate an object named electric_car and call its get_model() method."
   ]
  },
  {
   "cell_type": "markdown",
   "id": "6f2ec08f-6174-4eb1-aa64-78a37c29d89e",
   "metadata": {},
   "source": [
    "#### Expected output format:\n",
    "\n",
    "Model information is restricted for this electric car."
   ]
  },
  {
   "cell_type": "markdown",
   "id": "cabaf669-bec9-4af4-95ea-e65ee3da1b29",
   "metadata": {},
   "source": [
    "### Solution"
   ]
  },
  {
   "cell_type": "code",
   "execution_count": 14,
   "id": "23954c11-54c3-4eae-8938-46d51f82689e",
   "metadata": {},
   "outputs": [],
   "source": [
    "# Subclass of Car with overridden method\n",
    "class ElectricCar(Car):\n",
    "    def __init__(self, make, model, year):\n",
    "        super().__init__(make, model, year)\n",
    "\n",
    "    def get_model(self):\n",
    "        print(\"Model information is restricted for this electric car.\")"
   ]
  },
  {
   "cell_type": "code",
   "execution_count": 15,
   "id": "dce9b6b1-ff65-4e9c-b2e7-8bed9a6aed37",
   "metadata": {},
   "outputs": [
    {
     "name": "stdout",
     "output_type": "stream",
     "text": [
      "Model information is restricted for this electric car.\n"
     ]
    }
   ],
   "source": [
    "# Instantiation and method call\n",
    "electric_car = ElectricCar(\"Tesla\", \"Model S\", 2023)\n",
    "electric_car.get_model()"
   ]
  },
  {
   "cell_type": "markdown",
   "id": "9693d727-dd25-4da5-b696-9ad1a00281c2",
   "metadata": {},
   "source": [
    "---"
   ]
  },
  {
   "cell_type": "markdown",
   "id": "7340d38d-cc17-4f60-bd92-924d1310e872",
   "metadata": {},
   "source": [
    "### Part 3 Concepts to Consider"
   ]
  },
  {
   "cell_type": "markdown",
   "id": "c9343f1a-6738-405d-b61a-0d2b9446debb",
   "metadata": {},
   "source": [
    "✅ Part 3: Adding Unique Methods to a New Subclass\n",
    "What’s another employee role that might need custom methods? Let’s use Manager.\n",
    "\n",
    "What three things might be specific to managers that regular employees don’t always have?\n",
    "\n",
    "Define a new class that inherits from your original employee class.\n",
    "\n",
    "In your new class, add three methods, each of which prints one of the manager-specific properties.\n",
    "\n",
    "Be sure your class’s __init__() method initializes these new properties.\n",
    "\n",
    "Instantiate a manager object and call each method to display the:\n",
    "\n",
    "Job description\n",
    "\n",
    "Years of experience\n",
    "\n",
    "Degree earned\n",
    "\n"
   ]
  },
  {
   "cell_type": "markdown",
   "id": "259409ca-247e-4f8e-8c0c-fd4069808d7c",
   "metadata": {},
   "source": [
    "### Part 3 Helper"
   ]
  },
  {
   "cell_type": "markdown",
   "id": "11d90015-2e4c-4572-b953-5e6af53fd629",
   "metadata": {},
   "source": [
    "🔹 Part 3 – New Subclass With Unique Methods\n",
    "Create another subclass of Vehicle named Truck.\n",
    "\n",
    "This class should introduce three new methods (not in the parent class):\n",
    "\n",
    "get_payload_capacity() – print a message about how much the truck can haul\n",
    "\n",
    "get_towing_capacity() – print a message about what it can tow\n",
    "\n",
    "get_license_type() – print the required license type\n",
    "\n",
    "Make sure each method uses a value stored as a property initialized in __init__().\n",
    "\n",
    "Create an object named heavy_duty and call all three methods."
   ]
  },
  {
   "cell_type": "markdown",
   "id": "6434b320-a354-4648-82d6-d11cc1949e61",
   "metadata": {},
   "source": [
    "#### Expected output format:\n",
    "\n",
    "This truck can haul 3000 lbs of cargo\n",
    "\n",
    "It can tow up to 10,000 lbs\n",
    "\n",
    "A Commercial Class B license is required"
   ]
  },
  {
   "cell_type": "markdown",
   "id": "e18f7cc6-4da4-4e9f-8ec3-ae87fcb55ab6",
   "metadata": {},
   "source": [
    "### Solution"
   ]
  },
  {
   "cell_type": "code",
   "execution_count": 16,
   "id": "d325bf07-2ad9-4eab-b7c1-e3e779315046",
   "metadata": {},
   "outputs": [],
   "source": [
    "# New subclass with additional methods\n",
    "class Truck(Vehicle):\n",
    "    def __init__(self, make, model, year, payload_capacity, towing_capacity, license_type):\n",
    "        super().__init__(make, model, year)\n",
    "        self.payload_capacity = payload_capacity\n",
    "        self.towing_capacity = towing_capacity\n",
    "        self.license_type = license_type\n",
    "\n",
    "    def get_payload_capacity(self):\n",
    "        print(f\"This truck can haul {self.payload_capacity} lbs of cargo\")\n",
    "\n",
    "    def get_towing_capacity(self):\n",
    "        print(f\"It can tow up to {self.towing_capacity} lbs\")\n",
    "\n",
    "    def get_license_type(self):\n",
    "        print(f\"A {self.license_type} license is required\")"
   ]
  },
  {
   "cell_type": "code",
   "execution_count": 17,
   "id": "6f0624a4-35f9-4180-bacc-bc4fc1f5781a",
   "metadata": {},
   "outputs": [
    {
     "name": "stdout",
     "output_type": "stream",
     "text": [
      "This truck can haul 3000 lbs of cargo\n",
      "It can tow up to 10000 lbs\n",
      "A Commercial Class B license is required\n"
     ]
    }
   ],
   "source": [
    "# Instantiation and method calls\n",
    "heavy_duty = Truck(\"Ford\", \"F-350\", 2021, 3000, 10000, \"Commercial Class B\")\n",
    "heavy_duty.get_payload_capacity()\n",
    "heavy_duty.get_towing_capacity()\n",
    "heavy_duty.get_license_type()"
   ]
  },
  {
   "cell_type": "markdown",
   "id": "bcd7f201-d509-44b5-a8ee-1b26755f93c3",
   "metadata": {},
   "source": [
    "---"
   ]
  }
 ],
 "metadata": {
  "kernelspec": {
   "display_name": "Python 3 (ipykernel)",
   "language": "python",
   "name": "python3"
  },
  "language_info": {
   "codemirror_mode": {
    "name": "ipython",
    "version": 3
   },
   "file_extension": ".py",
   "mimetype": "text/x-python",
   "name": "python",
   "nbconvert_exporter": "python",
   "pygments_lexer": "ipython3",
   "version": "3.13.2"
  }
 },
 "nbformat": 4,
 "nbformat_minor": 5
}
